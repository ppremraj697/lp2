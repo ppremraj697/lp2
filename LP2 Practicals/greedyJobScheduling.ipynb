{
  "nbformat": 4,
  "nbformat_minor": 0,
  "metadata": {
    "colab": {
      "provenance": []
    },
    "kernelspec": {
      "name": "python3",
      "display_name": "Python 3"
    },
    "language_info": {
      "name": "python"
    }
  },
  "cells": [
    {
      "cell_type": "code",
      "source": [
        "def schedule_jobs():\n",
        "    num_jobs = int(input(\"Enter the number of jobs: \"))\n",
        "\n",
        "    jobs = []\n",
        "    for i in range(num_jobs):\n",
        "        duration = int(input(f\"Enter the duration for Job {i+1}: \"))\n",
        "        jobs.append((i+1, duration))\n",
        "\n",
        "    # Sort jobs in descending order of their durations\n",
        "    sorted_jobs = sorted(jobs, key=lambda x: x[1], reverse=True)\n",
        "\n",
        "    # Initialize the schedule and the current time\n",
        "    schedule = []\n",
        "    current_time = 0\n",
        "\n",
        "    # Iterate through each job and schedule it if possible\n",
        "    for job in sorted_jobs:\n",
        "        start_time = current_time\n",
        "        end_time = current_time + job[1]\n",
        "\n",
        "        # Check if the job can be scheduled without overlapping with previous jobs\n",
        "        if not any(start_time < j[2] and end_time > j[0] for j in schedule):\n",
        "            schedule.append((start_time, end_time, job[0]))  # Add job to the schedule\n",
        "            current_time = end_time  # Update current time\n",
        "\n",
        "    return schedule"
      ],
      "metadata": {
        "id": "sdlkx9rB9K6P"
      },
      "execution_count": null,
      "outputs": []
    },
    {
      "cell_type": "code",
      "source": [
        "# Example usage\n",
        "result = schedule_jobs()\n",
        "for job in result:\n",
        "    print(f\"Job {job[2]}: Start time = {job[0]}, End time = {job[1]}\")"
      ],
      "metadata": {
        "colab": {
          "base_uri": "https://localhost:8080/"
        },
        "id": "Vq1hCtyG9QcR",
        "outputId": "be483297-036f-47cc-a331-dabe77427ec8"
      },
      "execution_count": null,
      "outputs": [
        {
          "output_type": "stream",
          "name": "stdout",
          "text": [
            "Enter the number of jobs: 5\n",
            "Enter the duration for Job 1: 1\n",
            "Enter the duration for Job 2: 5\n",
            "Enter the duration for Job 3: 8\n",
            "Enter the duration for Job 4: 2\n",
            "Enter the duration for Job 5: 4\n",
            "Job 3: Start time = 0, End time = 8\n",
            "Job 2: Start time = 8, End time = 13\n",
            "Job 5: Start time = 13, End time = 17\n",
            "Job 4: Start time = 17, End time = 19\n",
            "Job 1: Start time = 19, End time = 20\n"
          ]
        }
      ]
    },
    {
      "cell_type": "code",
      "source": [
        "def schedule_jobs1():\n",
        "    num_jobs = int(input(\"Enter the number of jobs: \"))\n",
        "\n",
        "    jobs = []\n",
        "    for i in range(num_jobs):\n",
        "        duration = int(input(f\"Enter the duration for Job {i+1}: \"))\n",
        "        jobs.append((i+1, duration))\n",
        "\n",
        "    # Sort jobs in ascending order of their durations\n",
        "    sorted_jobs = sorted(jobs, key=lambda x: x[1])\n",
        "\n",
        "    # Initialize the schedule and the current time\n",
        "    schedule = []\n",
        "    current_time = 0\n",
        "\n",
        "    # Iterate through each job and schedule it if possible\n",
        "    for job in sorted_jobs:\n",
        "        start_time = current_time\n",
        "        end_time = current_time + job[1]\n",
        "\n",
        "        # Check if the job can be scheduled without overlapping with previous jobs\n",
        "        if not any(j[2] <= start_time and j[1] >= end_time for j in schedule):\n",
        "            schedule.append((start_time, end_time, job[0]))  # Add job to the schedule\n",
        "            current_time = end_time  # Update current time\n",
        "\n",
        "    return schedule\n",
        "\n",
        "# Example usage\n",
        "result = schedule_jobs1()\n",
        "for i, job in enumerate(result):\n",
        "    print(f\"Job {i+1}: Start time = {job[0]}, End time = {job[1]}\")\n"
      ],
      "metadata": {
        "colab": {
          "base_uri": "https://localhost:8080/"
        },
        "id": "jBlpzVR2AHmL",
        "outputId": "36a979ef-8adc-4c53-ee09-ddb008a6c043"
      },
      "execution_count": null,
      "outputs": [
        {
          "output_type": "stream",
          "name": "stdout",
          "text": [
            "Enter the number of jobs: 5\n",
            "Enter the duration for Job 1: 1\n",
            "Enter the duration for Job 2: 5\n",
            "Enter the duration for Job 3: 8\n",
            "Enter the duration for Job 4: 2\n",
            "Enter the duration for Job 5: 4\n",
            "Job 1: Start time = 0, End time = 1\n",
            "Job 2: Start time = 1, End time = 3\n",
            "Job 3: Start time = 3, End time = 7\n",
            "Job 4: Start time = 7, End time = 12\n",
            "Job 5: Start time = 12, End time = 20\n"
          ]
        }
      ]
    }
  ]
}