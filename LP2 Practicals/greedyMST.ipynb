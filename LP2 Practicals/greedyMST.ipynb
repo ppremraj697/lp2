{
  "nbformat": 4,
  "nbformat_minor": 0,
  "metadata": {
    "colab": {
      "provenance": []
    },
    "kernelspec": {
      "name": "python3",
      "display_name": "Python 3"
    },
    "language_info": {
      "name": "python"
    }
  },
  "cells": [
    {
      "cell_type": "code",
      "source": [
        "class Graph:\n",
        "    def __init__(self, vertices):\n",
        "        self.V = vertices\n",
        "        self.graph = [[0 for _ in range(vertices)] for _ in range(vertices)]\n",
        "\n",
        "    def add_edge(self, src, dest, weight):\n",
        "        self.graph[src][dest] = weight\n",
        "        self.graph[dest][src] = weight\n",
        "\n",
        "    def min_key(self, key, mst_set):\n",
        "        min_val = float('inf')\n",
        "        min_index = -1\n",
        "        for v in range(self.V):\n",
        "            if key[v] < min_val and not mst_set[v]:\n",
        "                min_val = key[v]\n",
        "                min_index = v\n",
        "        return min_index\n",
        "\n",
        "    def prim_mst(self):\n",
        "        key = [float('inf')] * self.V\n",
        "        parent = [-1] * self.V\n",
        "        key[0] = 0\n",
        "        mst_set = [False] * self.V\n",
        "\n",
        "        for _ in range(self.V):\n",
        "            u = self.min_key(key, mst_set)\n",
        "            mst_set[u] = True\n",
        "\n",
        "            for v in range(self.V):\n",
        "                if 0 < self.graph[u][v] < key[v] and not mst_set[v]:\n",
        "                    key[v] = self.graph[u][v]\n",
        "                    parent[v] = u\n",
        "\n",
        "        print(\"Edge\\tWeight\")\n",
        "        for i in range(1, self.V):\n",
        "            print(parent[i], \"-\", i, \"\\t\", self.graph[i][parent[i]])\n"
      ],
      "metadata": {
        "id": "ub1PtcIRmxWJ"
      },
      "execution_count": null,
      "outputs": []
    },
    {
      "cell_type": "code",
      "source": [
        "# Get the number of vertices from the user\n",
        "num_vertices = int(input(\"Enter the number of vertices in the graph: \"))"
      ],
      "metadata": {
        "colab": {
          "base_uri": "https://localhost:8080/"
        },
        "id": "8yR4PG-Am3WM",
        "outputId": "cdf90121-97a6-4d7e-cf82-db4530d1fa09"
      },
      "execution_count": null,
      "outputs": [
        {
          "name": "stdout",
          "output_type": "stream",
          "text": [
            "Enter the number of vertices in the graph: 4\n"
          ]
        }
      ]
    },
    {
      "cell_type": "code",
      "source": [
        "# Create the graph object\n",
        "g = Graph(num_vertices)"
      ],
      "metadata": {
        "id": "YtvxPcREm6ms"
      },
      "execution_count": null,
      "outputs": []
    },
    {
      "cell_type": "code",
      "source": [
        "# Get the edges and weights from the user\n",
        "num_edges = int(input(\"Enter the number of edges in the graph: \"))"
      ],
      "metadata": {
        "colab": {
          "base_uri": "https://localhost:8080/"
        },
        "id": "2fEwGGD4m97C",
        "outputId": "302688d5-9f12-44f1-e3af-18e889752688"
      },
      "execution_count": null,
      "outputs": [
        {
          "name": "stdout",
          "output_type": "stream",
          "text": [
            "Enter the number of edges in the graph: 6\n"
          ]
        }
      ]
    },
    {
      "cell_type": "code",
      "source": [
        "print(\"Enter the source, destination, and weight for each edge:\")\n",
        "for _ in range(num_edges):\n",
        "    src = int(input(\"Source: \")) - 1\n",
        "    dest = int(input(\"Destination: \")) - 1\n",
        "    weight = int(input(\"Weight: \"))\n",
        "    g.add_edge(src, dest, weight)\n"
      ],
      "metadata": {
        "colab": {
          "base_uri": "https://localhost:8080/"
        },
        "id": "joktW21HnDFd",
        "outputId": "390fab42-3e3c-4e60-8a9d-610cf281155d"
      },
      "execution_count": null,
      "outputs": [
        {
          "name": "stdout",
          "output_type": "stream",
          "text": [
            "Enter the source, destination, and weight for each edge:\n",
            "Source: 1\n",
            "Destination: 2\n",
            "Weight: 3\n",
            "Source: 1\n",
            "Destination: 3\n",
            "Weight: 3\n",
            "Source: 1\n",
            "Destination: 4\n",
            "Weight: 3\n",
            "Source: 2 \n",
            "Destination: 3\n",
            "Weight: 2\n",
            "Source: 3\n",
            "Destination: 4\n",
            "Weight: 2\n",
            "Source: 2\n",
            "Destination: 4\n",
            "Weight: 4\n"
          ]
        }
      ]
    },
    {
      "cell_type": "code",
      "source": [
        "# Find and print the Minimum Spanning Tree (MST)\n",
        "print(\"Minimum Spanning Tree (MST):\")\n",
        "g.prim_mst()"
      ],
      "metadata": {
        "colab": {
          "base_uri": "https://localhost:8080/"
        },
        "id": "EO3jMhS0oLQC",
        "outputId": "b15bcfe5-dbc3-468a-9a2e-9052d6e25d26"
      },
      "execution_count": null,
      "outputs": [
        {
          "output_type": "stream",
          "name": "stdout",
          "text": [
            "Minimum Spanning Tree (MST):\n",
            "Edge\tWeight\n",
            "0 - 1 \t 3\n",
            "1 - 2 \t 2\n",
            "2 - 3 \t 2\n"
          ]
        }
      ]
    }
  ]
}