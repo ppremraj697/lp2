{
  "nbformat": 4,
  "nbformat_minor": 0,
  "metadata": {
    "colab": {
      "provenance": []
    },
    "kernelspec": {
      "name": "python3",
      "display_name": "Python 3"
    },
    "language_info": {
      "name": "python"
    }
  },
  "cells": [
    {
      "cell_type": "code",
      "source": [
        "class Graph:\n",
        "    def __init__(self):\n",
        "        self.graph = {}\n",
        "\n",
        "    def add_edge(self, u, v):\n",
        "        if u in self.graph:\n",
        "            self.graph[u].append(v)\n",
        "        else:\n",
        "            self.graph[u] = [v]\n",
        "\n",
        "        if v in self.graph:\n",
        "            self.graph[v].append(u)\n",
        "        else:\n",
        "            self.graph[v] = [u]\n",
        "\n",
        "    def dfs(self, start_vertex, visited=None):\n",
        "        if visited is None:\n",
        "            visited = set()\n",
        "\n",
        "        visited.add(start_vertex)\n",
        "        print(start_vertex, end=\" \")\n",
        "\n",
        "        neighbors = self.graph[start_vertex]\n",
        "        for neighbor in neighbors:\n",
        "            if neighbor not in visited:\n",
        "                self.dfs(neighbor, visited)"
      ],
      "metadata": {
        "id": "sCRB54MuT8Ps"
      },
      "execution_count": null,
      "outputs": []
    },
    {
      "cell_type": "code",
      "source": [
        "# Create a graph\n",
        "graph = Graph()"
      ],
      "metadata": {
        "id": "LFDmrmiJUGWh"
      },
      "execution_count": null,
      "outputs": []
    },
    {
      "cell_type": "code",
      "source": [
        "# User input to add edges\n",
        "print(\"Enter the number of edges:\")\n",
        "num_edges = int(input())\n"
      ],
      "metadata": {
        "colab": {
          "base_uri": "https://localhost:8080/"
        },
        "id": "foOyl0-mUQTe",
        "outputId": "dbbfbaef-918a-4032-a0a6-7df67306edeb"
      },
      "execution_count": null,
      "outputs": [
        {
          "name": "stdout",
          "output_type": "stream",
          "text": [
            "Enter the number of edges:\n",
            "5\n"
          ]
        }
      ]
    },
    {
      "cell_type": "code",
      "source": [
        "print(\"Enter the edges (e.g., '1 2' means an edge between vertices 1 and 2):\")\n",
        "for _ in range(num_edges):\n",
        "    u, v = map(int, input().split())\n",
        "    graph.add_edge(u, v)\n",
        "    "
      ],
      "metadata": {
        "colab": {
          "base_uri": "https://localhost:8080/"
        },
        "id": "yviReVcnUUqo",
        "outputId": "3062de12-34bd-4223-fe0b-d9677b4dc6c5"
      },
      "execution_count": null,
      "outputs": [
        {
          "name": "stdout",
          "output_type": "stream",
          "text": [
            "Enter the edges (e.g., '1 2' means an edge between vertices 1 and 2):\n",
            "1 2\n",
            "1 3\n",
            "2 3\n",
            "2 4\n",
            "3 5\n"
          ]
        }
      ]
    },
    {
      "cell_type": "code",
      "source": [
        "# Perform DFS\n",
        "print(\"Enter the starting vertex for DFS:\")\n",
        "start_vertex = int(input())\n",
        "\n",
        "print(\"DFS traversal:\")\n",
        "graph.dfs(start_vertex)"
      ],
      "metadata": {
        "colab": {
          "base_uri": "https://localhost:8080/"
        },
        "id": "JKClHwtGUj6v",
        "outputId": "876685aa-efc2-464d-d9ed-4619514cfb16"
      },
      "execution_count": null,
      "outputs": [
        {
          "output_type": "stream",
          "name": "stdout",
          "text": [
            "Enter the starting vertex for DFS:\n",
            "4\n",
            "DFS traversal:\n",
            "4 2 1 3 5 "
          ]
        }
      ]
    }
  ]
}