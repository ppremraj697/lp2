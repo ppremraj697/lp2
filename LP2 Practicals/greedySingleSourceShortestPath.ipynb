{
  "nbformat": 4,
  "nbformat_minor": 0,
  "metadata": {
    "colab": {
      "provenance": []
    },
    "kernelspec": {
      "name": "python3",
      "display_name": "Python 3"
    },
    "language_info": {
      "name": "python"
    }
  },
  "cells": [
    {
      "cell_type": "code",
      "execution_count": null,
      "metadata": {
        "id": "ewoAr921ox_z"
      },
      "outputs": [],
      "source": [
        "import sys"
      ]
    },
    {
      "cell_type": "code",
      "source": [
        "class Graph:\n",
        "    def __init__(self, vertices):\n",
        "        self.V = vertices\n",
        "        self.graph = [[0 for _ in range(vertices)] for _ in range(vertices)]\n",
        "\n",
        "    def add_edge(self, u, v, weight):\n",
        "        self.graph[u][v] = weight\n",
        "\n",
        "    def get_min_distance_vertex(self, dist, visited):\n",
        "        min_dist = sys.maxsize\n",
        "        min_vertex = None\n",
        "\n",
        "        for v in range(self.V):\n",
        "            if dist[v] < min_dist and not visited[v]:\n",
        "                min_dist = dist[v]\n",
        "                min_vertex = v\n",
        "\n",
        "        if min_vertex is None:\n",
        "            return None\n",
        "        else:\n",
        "            return min_vertex\n",
        "\n",
        "    def dijkstra(self, src):\n",
        "        dist = [sys.maxsize] * self.V\n",
        "        dist[src] = 0\n",
        "        visited = [False] * self.V\n",
        "\n",
        "        for _ in range(self.V):\n",
        "            u = self.get_min_distance_vertex(dist, visited)\n",
        "            if u is None:\n",
        "                break\n",
        "\n",
        "            visited[u] = True\n",
        "\n",
        "            for v in range(self.V):\n",
        "                if (\n",
        "                    not visited[v]\n",
        "                    and self.graph[u][v] != 0\n",
        "                    and dist[u] + self.graph[u][v] < dist[v]\n",
        "                ):\n",
        "                    dist[v] = dist[u] + self.graph[u][v]\n",
        "\n",
        "        print(\"Vertex\\tDistance from Source\")\n",
        "        for v in range(self.V):\n",
        "            print(v, \"\\t\", dist[v])"
      ],
      "metadata": {
        "id": "TQ3n7YC7wMJQ"
      },
      "execution_count": null,
      "outputs": []
    },
    {
      "cell_type": "code",
      "source": [
        "# User input to get the number of vertices and edges\n",
        "print(\"Enter the number of vertices:\")\n",
        "num_vertices = int(input())\n",
        "\n",
        "print(\"Enter the number of edges:\")\n",
        "num_edges = int(input())"
      ],
      "metadata": {
        "colab": {
          "base_uri": "https://localhost:8080/"
        },
        "id": "nGtrU9npwPli",
        "outputId": "bff152ed-5ff4-4fb9-8dcc-4523a4cd9e47"
      },
      "execution_count": null,
      "outputs": [
        {
          "name": "stdout",
          "output_type": "stream",
          "text": [
            "Enter the number of vertices:\n",
            "4\n",
            "Enter the number of edges:\n",
            "6\n"
          ]
        }
      ]
    },
    {
      "cell_type": "code",
      "source": [
        "# Create a graph\n",
        "graph = Graph(num_vertices)"
      ],
      "metadata": {
        "id": "78DhYJ4gwf3r"
      },
      "execution_count": null,
      "outputs": []
    },
    {
      "cell_type": "code",
      "source": [
        "# User input to add edges and their weights\n",
        "print(\"Enter the edges and their weights (e.g., '0 1 5' means an edge between vertices 0 and 1 with weight 5):\")\n",
        "for _ in range(num_edges):\n",
        "    u, v, weight = map(int, input().split())\n",
        "    graph.add_edge(u - 1, v - 1, weight)  # Subtract 1 from u and v to convert to 0-based indexing"
      ],
      "metadata": {
        "colab": {
          "base_uri": "https://localhost:8080/"
        },
        "id": "gF-2CHCbwkQj",
        "outputId": "c05d8c37-1766-46be-bff4-0c2d79c99035"
      },
      "execution_count": null,
      "outputs": [
        {
          "name": "stdout",
          "output_type": "stream",
          "text": [
            "Enter the edges and their weights (e.g., '0 1 5' means an edge between vertices 0 and 1 with weight 5):\n",
            "1 3 3\n",
            "1 2 3\n",
            "1 4 3\n",
            "3 2 2\n",
            "3 4 2\n",
            "2 4 4\n"
          ]
        }
      ]
    },
    {
      "cell_type": "code",
      "source": [
        "# User input for the source vertex\n",
        "print(\"Enter the source vertex:\")\n",
        "source = int(input())"
      ],
      "metadata": {
        "colab": {
          "base_uri": "https://localhost:8080/"
        },
        "id": "IzX51qwcw3wP",
        "outputId": "874f30c7-35ba-481b-e6fe-954dfc8bc01e"
      },
      "execution_count": null,
      "outputs": [
        {
          "name": "stdout",
          "output_type": "stream",
          "text": [
            "Enter the source vertex:\n",
            "1\n"
          ]
        }
      ]
    },
    {
      "cell_type": "code",
      "source": [
        "# Find and print the shortest paths from the source vertex\n",
        "graph.dijkstra(source - 1)  # Subtract 1 from source to convert to 0-based indexing"
      ],
      "metadata": {
        "colab": {
          "base_uri": "https://localhost:8080/"
        },
        "id": "UQkFOzfsw86n",
        "outputId": "7c651249-2bd4-441b-9904-27ed004c9381"
      },
      "execution_count": null,
      "outputs": [
        {
          "output_type": "stream",
          "name": "stdout",
          "text": [
            "Vertex\tDistance from Source\n",
            "0 \t 0\n",
            "1 \t 3\n",
            "2 \t 3\n",
            "3 \t 3\n"
          ]
        }
      ]
    }
  ]
}