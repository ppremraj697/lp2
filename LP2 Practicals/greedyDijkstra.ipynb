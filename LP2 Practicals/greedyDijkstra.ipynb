{
  "nbformat": 4,
  "nbformat_minor": 0,
  "metadata": {
    "colab": {
      "provenance": []
    },
    "kernelspec": {
      "name": "python3",
      "display_name": "Python 3"
    },
    "language_info": {
      "name": "python"
    }
  },
  "cells": [
    {
      "cell_type": "code",
      "source": [
        "# Function to find the vertex with minimum distance\n",
        "def min_distance(distances, visited):\n",
        "    min_dist = float('inf')\n",
        "    min_vertex = None\n",
        "    for v in range(len(distances)):\n",
        "        if distances[v] < min_dist and not visited[v]:\n",
        "            min_dist = distances[v]\n",
        "            min_vertex = v\n",
        "    return min_vertex\n",
        "\n",
        "# Function to construct and print the MST using Dijkstra's algorithm\n",
        "def dijkstra_mst(graph):\n",
        "    num_vertices = len(graph) - 1\n",
        "    # Initialize distances and visited array\n",
        "    distances = [float('inf')] * (num_vertices + 1)\n",
        "    parent = [None] * (num_vertices + 1)\n",
        "    distances[1] = 0\n",
        "    visited = [False] * (num_vertices + 1)\n",
        "\n",
        "    for _ in range(num_vertices):\n",
        "        # Find the vertex with the minimum distance\n",
        "        u = min_distance(distances, visited)\n",
        "        visited[u] = True\n",
        "\n",
        "        # Update distances of adjacent vertices\n",
        "        for v in range(1, num_vertices + 1):\n",
        "            if (\n",
        "                graph[u][v][0] != 0  # Edge exists\n",
        "                and not visited[v]  # Not yet visited\n",
        "                and graph[u][v][0] < distances[v]  # Distance is smaller\n",
        "            ):\n",
        "                distances[v] = graph[u][v][0]\n",
        "                parent[v] = u\n",
        "\n",
        "    # Print the MST\n",
        "    print(\"Edge   Weight\")\n",
        "    for v in range(2, num_vertices + 1):\n",
        "        print(parent[v], \"-\", v, \"   \", graph[parent[v]][v][0])\n",
        "\n",
        "# Get input from the user\n",
        "num_vertices = int(input(\"Enter the number of vertices: \"))\n",
        "graph = [[(0, 0)] * (num_vertices + 1) for _ in range(num_vertices + 1)]\n",
        "\n",
        "print(\"Enter the edges and their weights (vertex1 vertex2 weight):\")\n",
        "num_edges = int(input(\"Enter the number of edges: \"))\n",
        "for _ in range(num_edges):\n",
        "    v1, v2, weight = map(int, input().split())\n",
        "    graph[v1][v2] = (weight, v2)\n",
        "    graph[v2][v1] = (weight, v1)\n",
        "\n",
        "# Call the function to find MST\n",
        "dijkstra_mst(graph)"
      ],
      "metadata": {
        "colab": {
          "base_uri": "https://localhost:8080/"
        },
        "id": "jKqxelUbvnLc",
        "outputId": "11a5a804-86cb-4339-8bcf-84efd565eb78"
      },
      "execution_count": null,
      "outputs": [
        {
          "output_type": "stream",
          "name": "stdout",
          "text": [
            "Enter the number of vertices: 4\n",
            "Enter the number of edges: 6\n",
            "Enter the edges and their weights (vertex1 vertex2 weight):\n",
            "1 2 3\n",
            "1 3 4\n",
            "1 4 3\n",
            "2 3 3\n",
            "2 4 2\n",
            "3 4 6\n",
            "Edge   Weight\n",
            "1 - 2     3\n",
            "2 - 3     3\n",
            "2 - 4     2\n"
          ]
        }
      ]
    }
  ]
}