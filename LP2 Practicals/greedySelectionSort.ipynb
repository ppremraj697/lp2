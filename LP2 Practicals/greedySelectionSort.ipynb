{
  "nbformat": 4,
  "nbformat_minor": 0,
  "metadata": {
    "colab": {
      "provenance": []
    },
    "kernelspec": {
      "name": "python3",
      "display_name": "Python 3"
    },
    "language_info": {
      "name": "python"
    }
  },
  "cells": [
    {
      "cell_type": "code",
      "execution_count": 1,
      "metadata": {
        "id": "y_lAspv1WJqk"
      },
      "outputs": [],
      "source": [
        "def greedy_selection_sort(arr):\n",
        "    sorted_arr = []  # Initialize the sorted part as an empty list\n",
        "    \n",
        "    while arr:\n",
        "        # Find the minimum element in the unsorted part\n",
        "        min_value = min(arr)\n",
        "        \n",
        "        # Remove the maximum element from the unsorted part\n",
        "        arr.remove(min_value)\n",
        "        \n",
        "        # Append the maximum element to the sorted part\n",
        "        sorted_arr.append(min_value)\n",
        "    \n",
        "    return sorted_arr"
      ]
    },
    {
      "cell_type": "code",
      "source": [
        "# User input to get the array elements\n",
        "print(\"Enter the elements of the array (space-separated):\")\n",
        "arr = list(map(int, input().split()))"
      ],
      "metadata": {
        "colab": {
          "base_uri": "https://localhost:8080/"
        },
        "id": "fmdHQ1LoWm5x",
        "outputId": "647f8c3e-0ad0-488a-e57b-9551b0dc5fc8"
      },
      "execution_count": 2,
      "outputs": [
        {
          "name": "stdout",
          "output_type": "stream",
          "text": [
            "Enter the elements of the array (space-separated):\n",
            "2 3 44 22 55 3 50 56 21 11 3\n"
          ]
        }
      ]
    },
    {
      "cell_type": "code",
      "source": [
        "for i in range(0, len(arr)):\n",
        "  print(arr[i])  "
      ],
      "metadata": {
        "colab": {
          "base_uri": "https://localhost:8080/"
        },
        "id": "fDeSuhp5WyPy",
        "outputId": "21ac38cf-fb43-484c-994b-7a850f7b4254"
      },
      "execution_count": 3,
      "outputs": [
        {
          "output_type": "stream",
          "name": "stdout",
          "text": [
            "2\n",
            "3\n",
            "44\n",
            "22\n",
            "55\n",
            "3\n",
            "50\n",
            "56\n",
            "21\n",
            "11\n",
            "3\n"
          ]
        }
      ]
    },
    {
      "cell_type": "code",
      "source": [
        "# Perform Selection Sort\n",
        "sorted_arr = greedy_selection_sort(arr)"
      ],
      "metadata": {
        "id": "NwAoICxHYXBm"
      },
      "execution_count": 4,
      "outputs": []
    },
    {
      "cell_type": "code",
      "source": [
        "# Print the sorted array\n",
        "print(\"Sorted array:\", sorted_arr)"
      ],
      "metadata": {
        "colab": {
          "base_uri": "https://localhost:8080/"
        },
        "id": "RsPi1hMrYYnQ",
        "outputId": "57d333d6-3161-4b1c-e733-f6635085f421"
      },
      "execution_count": 5,
      "outputs": [
        {
          "output_type": "stream",
          "name": "stdout",
          "text": [
            "Sorted array: [2, 3, 3, 3, 11, 21, 22, 44, 50, 55, 56]\n"
          ]
        }
      ]
    }
  ]
}