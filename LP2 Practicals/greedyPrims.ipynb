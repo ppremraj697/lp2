{
  "nbformat": 4,
  "nbformat_minor": 0,
  "metadata": {
    "colab": {
      "provenance": []
    },
    "kernelspec": {
      "name": "python3",
      "display_name": "Python 3"
    },
    "language_info": {
      "name": "python"
    }
  },
  "cells": [
    {
      "cell_type": "code",
      "source": [
        "class Graph:\n",
        "    def __init__(self, vertices):\n",
        "        self.V = vertices\n",
        "        self.graph = [[0 for _ in range(vertices)] for _ in range(vertices)]\n",
        "\n",
        "    def add_edge(self, src, dest, weight):\n",
        "        self.graph[src - 1][dest - 1] = weight\n",
        "        self.graph[dest - 1][src - 1] = weight\n",
        "\n",
        "    def print_mst(self, parent):\n",
        "        print(\"Edge \\tWeight\")\n",
        "        for i in range(1, self.V):\n",
        "            print(parent[i] + 1, \"-\", i + 1, \"\\t\", self.graph[i][parent[i]])\n",
        "\n",
        "    def prim_mst(self):\n",
        "        key = [float('inf')] * self.V\n",
        "        parent = [None] * self.V\n",
        "        visited = [False] * self.V\n",
        "\n",
        "        key[0] = 0  # Start with the first vertex\n",
        "\n",
        "        for _ in range(self.V):\n",
        "            # Find the vertex with the minimum key value\n",
        "            min_key = float('inf')\n",
        "            min_index = -1\n",
        "            for v in range(self.V):\n",
        "                if not visited[v] and key[v] < min_key:\n",
        "                    min_key = key[v]\n",
        "                    min_index = v\n",
        "\n",
        "            visited[min_index] = True\n",
        "\n",
        "            # Update the key values and parent pointers of the adjacent vertices\n",
        "            for v in range(self.V):\n",
        "                if (\n",
        "                    self.graph[min_index][v] > 0\n",
        "                    and not visited[v]\n",
        "                    and self.graph[min_index][v] < key[v]\n",
        "                ):\n",
        "                    key[v] = self.graph[min_index][v]\n",
        "                    parent[v] = min_index\n",
        "\n",
        "        self.print_mst(parent)\n",
        "\n",
        "\n",
        "# Get the number of vertices and edges from the user\n",
        "num_vertices = int(input(\"Enter the number of vertices: \"))\n",
        "num_edges = int(input(\"Enter the number of edges: \"))\n",
        "\n",
        "# Create a graph object\n",
        "graph = Graph(num_vertices)\n",
        "\n",
        "# Get the edges and their weights from the user\n",
        "for _ in range(num_edges):\n",
        "    src = int(input(\"Enter the source vertex of the edge: \"))\n",
        "    dest = int(input(\"Enter the destination vertex of the edge: \"))\n",
        "    weight = int(input(\"Enter the weight of the edge: \"))\n",
        "    graph.add_edge(src, dest, weight)\n",
        "\n",
        "# Find and print the MST using Prim's algorithm\n",
        "graph.prim_mst()"
      ],
      "metadata": {
        "colab": {
          "base_uri": "https://localhost:8080/"
        },
        "id": "KkltdbCcG6mh",
        "outputId": "702a592b-0479-4fd8-fbb4-44565aed3cf5"
      },
      "execution_count": null,
      "outputs": [
        {
          "output_type": "stream",
          "name": "stdout",
          "text": [
            "Enter the number of vertices: 4\n",
            "Enter the number of edges: 6\n",
            "Enter the source vertex of the edge: 1\n",
            "Enter the destination vertex of the edge: 2\n",
            "Enter the weight of the edge: 3\n",
            "Enter the source vertex of the edge: 1\n",
            "Enter the destination vertex of the edge: 3\n",
            "Enter the weight of the edge: 3\n",
            "Enter the source vertex of the edge: 1\n",
            "Enter the destination vertex of the edge: 4\n",
            "Enter the weight of the edge: 3\n",
            "Enter the source vertex of the edge: 2\n",
            "Enter the destination vertex of the edge: 3\n",
            "Enter the weight of the edge: 3\n",
            "Enter the source vertex of the edge: 4\n",
            "Enter the destination vertex of the edge: 3\n",
            "Enter the weight of the edge: 2\n",
            "Enter the source vertex of the edge: 2\n",
            "Enter the destination vertex of the edge: 4\n",
            "Enter the weight of the edge: 1\n",
            "Edge \tWeight\n",
            "1 - 2 \t 3\n",
            "4 - 3 \t 2\n",
            "2 - 4 \t 1\n"
          ]
        }
      ]
    }
  ]
}