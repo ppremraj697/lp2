{
  "nbformat": 4,
  "nbformat_minor": 0,
  "metadata": {
    "colab": {
      "provenance": []
    },
    "kernelspec": {
      "name": "python3",
      "display_name": "Python 3"
    },
    "language_info": {
      "name": "python"
    }
  },
  "cells": [
    {
      "cell_type": "code",
      "source": [
        "def is_safe(board, row, col, N):\n",
        "    # Check if the current position is safe for the queen\n",
        "    for i in range(row):\n",
        "        if board[i] == col or board[i] - col == i - row or board[i] - col == row - i:\n",
        "            return False\n",
        "    return True\n",
        "\n",
        "def solve_n_queens_backtracking(N):\n",
        "    board = [-1] * N  # Initialize an empty chessboard\n",
        "    solutions = []\n",
        "\n",
        "    def backtrack(row):\n",
        "        if row == N:  # All queens are placed\n",
        "            solutions.append(board[:])\n",
        "            return\n",
        "        for col in range(N):\n",
        "            if is_safe(board, row, col, N):\n",
        "                board[row] = col  # Place the queen\n",
        "                backtrack(row + 1)  # Recur for the next row\n",
        "                board[row] = -1  # Backtrack\n",
        "\n",
        "    backtrack(0)\n",
        "    return solutions"
      ],
      "metadata": {
        "id": "12x1o8HT5RU_"
      },
      "execution_count": null,
      "outputs": []
    },
    {
      "cell_type": "code",
      "source": [
        "def solve_n_queens_branch_bound(N):\n",
        "    board = [-1] * N  # Initialize an empty chessboard\n",
        "    solutions = []\n",
        "    cols = set()\n",
        "    diag1 = set()\n",
        "    diag2 = set()\n",
        "\n",
        "    def backtrack(row):\n",
        "        if row == N:  # All queens are placed\n",
        "            solutions.append(board[:])\n",
        "            return\n",
        "        for col in range(N):\n",
        "            if col not in cols and row + col not in diag1 and row - col not in diag2:\n",
        "                board[row] = col  # Place the queen\n",
        "                cols.add(col)\n",
        "                diag1.add(row + col)\n",
        "                diag2.add(row - col)\n",
        "                backtrack(row + 1)  # Recur for the next row\n",
        "                board[row] = -1  # Backtrack\n",
        "                cols.remove(col)\n",
        "                diag1.remove(row + col)\n",
        "                diag2.remove(row - col)\n",
        "\n",
        "    backtrack(0)\n",
        "    return solutions\n"
      ],
      "metadata": {
        "id": "icdeLCgv-G-1"
      },
      "execution_count": null,
      "outputs": []
    },
    {
      "cell_type": "code",
      "source": [
        "def print_solution(board):\n",
        "    N = len(board)\n",
        "    for row in range(N):\n",
        "        line = \"\"\n",
        "        for col in range(N):\n",
        "            if board[row] == col:\n",
        "                line += \"Q \"\n",
        "            else:\n",
        "                line += \". \"\n",
        "        print(line)\n",
        "    print()"
      ],
      "metadata": {
        "id": "uAzHYhBD-bgs"
      },
      "execution_count": null,
      "outputs": []
    },
    {
      "cell_type": "code",
      "source": [
        "# Get input from the user\n",
        "N = int(input(\"Enter the number of queens (N): \"))"
      ],
      "metadata": {
        "colab": {
          "base_uri": "https://localhost:8080/"
        },
        "id": "WvqF2wrs--P1",
        "outputId": "0cfe66fb-2a26-4188-e413-fe74f53c642e"
      },
      "execution_count": null,
      "outputs": [
        {
          "name": "stdout",
          "output_type": "stream",
          "text": [
            "Enter the number of queens (N): 4\n"
          ]
        }
      ]
    },
    {
      "cell_type": "code",
      "source": [
        "# Solve the N-Queens problem\n",
        "solutions = solve_n_queens_backtracking(N)\n",
        "solutions1 = solve_n_queens_branch_bound(N)"
      ],
      "metadata": {
        "id": "VeYf16no_FYB"
      },
      "execution_count": null,
      "outputs": []
    },
    {
      "cell_type": "code",
      "source": [
        "# Print the solutions\n",
        "print(f\"\\nNumber of solutions for {N}-Queens: {len(solutions)}\\n\")\n",
        "for i, solution in enumerate(solutions):\n",
        "    print(f\"Solution {i+1}:\")\n",
        "    print_solution(solution)\n",
        "\n",
        "# Print the solutions1\n",
        "print(f\"\\nNumber of solutions1 for {N}-Queens: {len(solutions1)}\\n\")\n",
        "for i, solution in enumerate(solutions1):\n",
        "    print(f\"Solution {i+1}:\")\n",
        "    print_solution(solution)"
      ],
      "metadata": {
        "colab": {
          "base_uri": "https://localhost:8080/"
        },
        "id": "N_LDA5e0_Whk",
        "outputId": "f6cc38c1-7d4a-465c-ca42-f6dcaf1565e1"
      },
      "execution_count": null,
      "outputs": [
        {
          "output_type": "stream",
          "name": "stdout",
          "text": [
            "\n",
            "Number of solutions for 4-Queens: 2\n",
            "\n",
            "Solution 1:\n",
            ". Q . . \n",
            ". . . Q \n",
            "Q . . . \n",
            ". . Q . \n",
            "\n",
            "Solution 2:\n",
            ". . Q . \n",
            "Q . . . \n",
            ". . . Q \n",
            ". Q . . \n",
            "\n",
            "\n",
            "Number of solutions1 for 4-Queens: 2\n",
            "\n",
            "Solution 1:\n",
            ". Q . . \n",
            ". . . Q \n",
            "Q . . . \n",
            ". . Q . \n",
            "\n",
            "Solution 2:\n",
            ". . Q . \n",
            "Q . . . \n",
            ". . . Q \n",
            ". Q . . \n",
            "\n"
          ]
        }
      ]
    }
  ]
}