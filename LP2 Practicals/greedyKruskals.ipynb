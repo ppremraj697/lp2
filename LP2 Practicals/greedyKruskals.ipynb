{
  "nbformat": 4,
  "nbformat_minor": 0,
  "metadata": {
    "colab": {
      "provenance": []
    },
    "kernelspec": {
      "name": "python3",
      "display_name": "Python 3"
    },
    "language_info": {
      "name": "python"
    }
  },
  "cells": [
    {
      "cell_type": "code",
      "execution_count": null,
      "metadata": {
        "colab": {
          "base_uri": "https://localhost:8080/"
        },
        "id": "IJZM2os7rmgB",
        "outputId": "d73eca79-4352-4fbe-d9c4-2cc514142ed4"
      },
      "outputs": [
        {
          "output_type": "stream",
          "name": "stdout",
          "text": [
            "Enter the number of vertices in the graph: 4\n",
            "Enter the number of edges in the graph: 6\n",
            "Enter the details for edge 1:\n",
            "Enter the source vertex: 1\n",
            "Enter the destination vertex: 2\n",
            "Enter the weight: 5\n",
            "Enter the details for edge 2:\n",
            "Enter the source vertex: 2\n",
            "Enter the destination vertex: 3\n",
            "Enter the weight: 4\n",
            "Enter the details for edge 3:\n",
            "Enter the source vertex: 2 \n",
            "Enter the destination vertex: 4\n",
            "Enter the weight: 3\n",
            "Enter the details for edge 4:\n",
            "Enter the source vertex: 1\n",
            "Enter the destination vertex: 3\n",
            "Enter the weight: 3\n",
            "Enter the details for edge 5:\n",
            "Enter the source vertex: 1\n",
            "Enter the destination vertex: 4\n",
            "Enter the weight: 4\n",
            "Enter the details for edge 6:\n",
            "Enter the source vertex: 3\n",
            "Enter the destination vertex: 4\n",
            "Enter the weight: 3\n",
            "Edges in the minimum spanning tree:\n",
            "1 -- 3 \t3\n",
            "0 -- 2 \t3\n",
            "2 -- 3 \t3\n"
          ]
        }
      ],
      "source": [
        "class Graph:\n",
        "    def __init__(self, vertices):\n",
        "        self.V = vertices\n",
        "        self.graph = []\n",
        "\n",
        "    def add_edge(self, u, v, w):\n",
        "        self.graph.append([u, v, w])\n",
        "\n",
        "    def find(self, parent, i):\n",
        "        if parent[i] == i:\n",
        "            return i\n",
        "        return self.find(parent, parent[i])\n",
        "\n",
        "    def union(self, parent, rank, x, y):\n",
        "        x_root = self.find(parent, x)\n",
        "        y_root = self.find(parent, y)\n",
        "\n",
        "        if rank[x_root] < rank[y_root]:\n",
        "            parent[x_root] = y_root\n",
        "        elif rank[x_root] > rank[y_root]:\n",
        "            parent[y_root] = x_root\n",
        "        else:\n",
        "            parent[y_root] = x_root\n",
        "            rank[x_root] += 1\n",
        "\n",
        "    def kruskal_mst(self):\n",
        "        result = []\n",
        "\n",
        "        self.graph = sorted(self.graph, key=lambda item: item[2])\n",
        "\n",
        "        parent = []\n",
        "        rank = []\n",
        "\n",
        "        for node in range(self.V):\n",
        "            parent.append(node)\n",
        "            rank.append(0)\n",
        "\n",
        "        i = 0\n",
        "        e = 0\n",
        "\n",
        "        while e < self.V - 1:\n",
        "            u, v, w = self.graph[i]\n",
        "            i += 1\n",
        "            x = self.find(parent, u)\n",
        "            y = self.find(parent, v)\n",
        "\n",
        "            if x != y:\n",
        "                e += 1\n",
        "                result.append([u, v, w])\n",
        "                self.union(parent, rank, x, y)\n",
        "\n",
        "        print(\"Edges in the minimum spanning tree:\")\n",
        "        for u, v, weight in result:\n",
        "            print(f\"{u} -- {v} \\t{weight}\")\n",
        "\n",
        "\n",
        "# Take input from the user\n",
        "V = int(input(\"Enter the number of vertices in the graph: \"))\n",
        "g = Graph(V)\n",
        "\n",
        "E = int(input(\"Enter the number of edges in the graph: \"))\n",
        "for i in range(E):\n",
        "    print(f\"Enter the details for edge {i + 1}:\")\n",
        "    u = int(input(\"Enter the source vertex: \")) - 1\n",
        "    v = int(input(\"Enter the destination vertex: \")) - 1\n",
        "    w = int(input(\"Enter the weight: \"))\n",
        "    g.add_edge(u, v, w)\n",
        "\n",
        "g.kruskal_mst()\n",
        "\n"
      ]
    }
  ]
}