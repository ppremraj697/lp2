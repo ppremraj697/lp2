{
  "nbformat": 4,
  "nbformat_minor": 0,
  "metadata": {
    "colab": {
      "provenance": []
    },
    "kernelspec": {
      "name": "python3",
      "display_name": "Python 3"
    },
    "language_info": {
      "name": "python"
    }
  },
  "cells": [
    {
      "cell_type": "code",
      "execution_count": null,
      "metadata": {
        "id": "d42CbaKFVhl7"
      },
      "outputs": [],
      "source": [
        "from collections import deque\n",
        "\n",
        "class Graph:\n",
        "    def __init__(self):\n",
        "        self.graph = {}\n",
        "\n",
        "    def add_edge(self, u, v):\n",
        "        if u in self.graph:\n",
        "            self.graph[u].append(v)\n",
        "        else:\n",
        "            self.graph[u] = [v]\n",
        "\n",
        "        if v in self.graph:\n",
        "            self.graph[v].append(u)\n",
        "        else:\n",
        "            self.graph[v] = [u]\n",
        "\n",
        "    def bfs(self, start_vertex):\n",
        "        visited = set()\n",
        "        queue = deque()\n",
        "\n",
        "        visited.add(start_vertex)\n",
        "        queue.append(start_vertex)\n",
        "\n",
        "        while queue:\n",
        "            current_vertex = queue.popleft()\n",
        "            print(current_vertex, end=\" \")\n",
        "\n",
        "            neighbors = self.graph[current_vertex]\n",
        "            for neighbor in neighbors:\n",
        "                if neighbor not in visited:\n",
        "                    visited.add(neighbor)\n",
        "                    queue.append(neighbor)"
      ]
    },
    {
      "cell_type": "code",
      "source": [
        "# Create a graph\n",
        "graph = Graph()"
      ],
      "metadata": {
        "id": "QTtGeVb3VvuX"
      },
      "execution_count": null,
      "outputs": []
    },
    {
      "cell_type": "code",
      "source": [
        "# User input to add edges\n",
        "print(\"Enter the number of edges:\")\n",
        "num_edges = int(input())\n",
        "\n",
        "print(\"Enter the edges (e.g., '1 2' means an edge between vertices 1 and 2):\")\n",
        "for _ in range(num_edges):\n",
        "    try:\n",
        "        u, v = map(int, input().split())\n",
        "        graph.add_edge(u, v)\n",
        "    except ValueError:\n",
        "        print(\"Invalid input. Please enter two integers separated by a space.\")"
      ],
      "metadata": {
        "colab": {
          "base_uri": "https://localhost:8080/"
        },
        "id": "SCFLT9GhVxT4",
        "outputId": "5f068557-c211-48b5-f652-2eb18d8f65cf"
      },
      "execution_count": null,
      "outputs": [
        {
          "name": "stdout",
          "output_type": "stream",
          "text": [
            "Enter the number of edges:\n",
            "5\n",
            "Enter the edges (e.g., '1 2' means an edge between vertices 1 and 2):\n",
            "1 2\n",
            "1 3\n",
            "2 3\n",
            "2 4\n",
            "3 4\n"
          ]
        }
      ]
    },
    {
      "cell_type": "code",
      "source": [
        "# Perform BFS\n",
        "print(\"Enter the starting vertex for BFS:\")\n",
        "start_vertex = int(input())\n",
        "\n",
        "print(\"BFS traversal:\")\n",
        "graph.bfs(start_vertex)"
      ],
      "metadata": {
        "colab": {
          "base_uri": "https://localhost:8080/"
        },
        "id": "H7q3c1YmV_1q",
        "outputId": "ce02a429-80ff-4802-f2b6-9e0e57f5da05"
      },
      "execution_count": null,
      "outputs": [
        {
          "output_type": "stream",
          "name": "stdout",
          "text": [
            "Enter the starting vertex for BFS:\n",
            "4\n",
            "BFS traversal:\n",
            "4 2 3 1 "
          ]
        }
      ]
    }
  ]
}